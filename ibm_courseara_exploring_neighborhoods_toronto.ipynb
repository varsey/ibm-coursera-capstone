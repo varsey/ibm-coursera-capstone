{
    "cells": [
        {
            "cell_type": "code",
            "execution_count": 54,
            "metadata": {},
            "outputs": [
                {
                    "name": "stdout",
                    "output_type": "stream",
                    "text": "Requirement already satisfied: folium in /opt/conda/envs/Python36/lib/python3.6/site-packages (0.11.0)\nRequirement already satisfied: requests in /opt/conda/envs/Python36/lib/python3.6/site-packages (from folium) (2.21.0)\nRequirement already satisfied: branca>=0.3.0 in /opt/conda/envs/Python36/lib/python3.6/site-packages (from folium) (0.4.1)\nRequirement already satisfied: numpy in /opt/conda/envs/Python36/lib/python3.6/site-packages (from folium) (1.15.4)\nRequirement already satisfied: jinja2>=2.9 in /opt/conda/envs/Python36/lib/python3.6/site-packages (from folium) (2.10)\nRequirement already satisfied: idna<2.9,>=2.5 in /opt/conda/envs/Python36/lib/python3.6/site-packages (from requests->folium) (2.8)\nRequirement already satisfied: certifi>=2017.4.17 in /opt/conda/envs/Python36/lib/python3.6/site-packages (from requests->folium) (2020.6.20)\nRequirement already satisfied: chardet<3.1.0,>=3.0.2 in /opt/conda/envs/Python36/lib/python3.6/site-packages (from requests->folium) (3.0.4)\nRequirement already satisfied: urllib3<1.25,>=1.21.1 in /opt/conda/envs/Python36/lib/python3.6/site-packages (from requests->folium) (1.24.1)\nRequirement already satisfied: MarkupSafe>=0.23 in /opt/conda/envs/Python36/lib/python3.6/site-packages (from jinja2>=2.9->folium) (1.1.0)\n"
                }
            ],
            "source": "#!pip install folium"
        },
        {
            "cell_type": "code",
            "execution_count": 55,
            "metadata": {},
            "outputs": [
                {
                    "name": "stdout",
                    "output_type": "stream",
                    "text": "Libraries imported.\n"
                }
            ],
            "source": "import pandas as pd\nimport numpy as np\nimport requests\nfrom bs4 import BeautifulSoup\nimport os\nfrom sklearn.cluster import KMeans\nimport folium \nfrom geopy.geocoders import Nominatim \nimport matplotlib.cm as cm\nimport matplotlib.colors as colors\n\n\nprint('Libraries imported.')"
        },
        {
            "cell_type": "code",
            "execution_count": 56,
            "metadata": {},
            "outputs": [],
            "source": "List_url='https://en.wikipedia.org/wiki/List_of_postal_codes_of_Canada:_M'\nsource = requests.get(List_url).text"
        },
        {
            "cell_type": "code",
            "execution_count": 57,
            "metadata": {},
            "outputs": [],
            "source": "soup = BeautifulSoup(source, 'xml')\ntable=soup.find('table')\ncolumn_names=['Postalcode','Borough','Neighborhood']\ndf = pd.DataFrame(columns=column_names)"
        },
        {
            "cell_type": "code",
            "execution_count": 58,
            "metadata": {},
            "outputs": [],
            "source": "for tr_cell in table.find_all('tr'):\n    row_data=[]\n    for td_cell in tr_cell.find_all('td'):\n        row_data.append(td_cell.text.strip())\n    if len(row_data)==3:\n        df.loc[len(df)] = row_data\n        df.head()"
        },
        {
            "cell_type": "code",
            "execution_count": 59,
            "metadata": {},
            "outputs": [],
            "source": "df=df[df['Borough']!='Not assigned']"
        },
        {
            "cell_type": "code",
            "execution_count": 60,
            "metadata": {},
            "outputs": [],
            "source": "df['Borough']=df[df['Neighborhood']=='Not assigned']"
        },
        {
            "cell_type": "code",
            "execution_count": 61,
            "metadata": {},
            "outputs": [
                {
                    "data": {
                        "text/html": "<div>\n<style scoped>\n    .dataframe tbody tr th:only-of-type {\n        vertical-align: middle;\n    }\n\n    .dataframe tbody tr th {\n        vertical-align: top;\n    }\n\n    .dataframe thead th {\n        text-align: right;\n    }\n</style>\n<table border=\"1\" class=\"dataframe\">\n  <thead>\n    <tr style=\"text-align: right;\">\n      <th></th>\n      <th>Postalcode</th>\n      <th>Borough</th>\n      <th>Neighborhood</th>\n    </tr>\n  </thead>\n  <tbody>\n    <tr>\n      <th>2</th>\n      <td>M3A</td>\n      <td>NaN</td>\n      <td>Parkwoods</td>\n    </tr>\n    <tr>\n      <th>3</th>\n      <td>M4A</td>\n      <td>NaN</td>\n      <td>Victoria Village</td>\n    </tr>\n    <tr>\n      <th>4</th>\n      <td>M5A</td>\n      <td>NaN</td>\n      <td>Regent Park, Harbourfront</td>\n    </tr>\n    <tr>\n      <th>5</th>\n      <td>M6A</td>\n      <td>NaN</td>\n      <td>Lawrence Manor, Lawrence Heights</td>\n    </tr>\n    <tr>\n      <th>6</th>\n      <td>M7A</td>\n      <td>NaN</td>\n      <td>Queen's Park, Ontario Provincial Government</td>\n    </tr>\n  </tbody>\n</table>\n</div>",
                        "text/plain": "  Postalcode Borough                                 Neighborhood\n2        M3A     NaN                                    Parkwoods\n3        M4A     NaN                             Victoria Village\n4        M5A     NaN                    Regent Park, Harbourfront\n5        M6A     NaN             Lawrence Manor, Lawrence Heights\n6        M7A     NaN  Queen's Park, Ontario Provincial Government"
                    },
                    "execution_count": 61,
                    "metadata": {},
                    "output_type": "execute_result"
                }
            ],
            "source": "df.head()"
        },
        {
            "cell_type": "code",
            "execution_count": 62,
            "metadata": {},
            "outputs": [],
            "source": "temp_df=df.groupby('Postalcode')['Neighborhood'].apply(lambda x: \"%s\" % ', '.join(x))\ntemp_df=temp_df.reset_index(drop=False)\ntemp_df.rename(columns={'Neighborhood':'Neighborhood_joined'},inplace=True)"
        },
        {
            "cell_type": "code",
            "execution_count": 63,
            "metadata": {},
            "outputs": [],
            "source": "df_merge = pd.merge(df, temp_df, on='Postalcode')"
        },
        {
            "cell_type": "code",
            "execution_count": 64,
            "metadata": {},
            "outputs": [],
            "source": "df_merge.drop(['Neighborhood'],axis=1,inplace=True)"
        },
        {
            "cell_type": "code",
            "execution_count": 65,
            "metadata": {},
            "outputs": [],
            "source": "df_merge.drop_duplicates(inplace=True)"
        },
        {
            "cell_type": "code",
            "execution_count": 66,
            "metadata": {},
            "outputs": [],
            "source": "df_merge.rename(columns={'Neighborhood_joined':'Neighborhood'},inplace=True)"
        },
        {
            "cell_type": "code",
            "execution_count": 67,
            "metadata": {},
            "outputs": [
                {
                    "data": {
                        "text/html": "<div>\n<style scoped>\n    .dataframe tbody tr th:only-of-type {\n        vertical-align: middle;\n    }\n\n    .dataframe tbody tr th {\n        vertical-align: top;\n    }\n\n    .dataframe thead th {\n        text-align: right;\n    }\n</style>\n<table border=\"1\" class=\"dataframe\">\n  <thead>\n    <tr style=\"text-align: right;\">\n      <th></th>\n      <th>Postalcode</th>\n      <th>Borough</th>\n      <th>Neighborhood</th>\n    </tr>\n  </thead>\n  <tbody>\n    <tr>\n      <th>0</th>\n      <td>M3A</td>\n      <td>NaN</td>\n      <td>Parkwoods</td>\n    </tr>\n    <tr>\n      <th>1</th>\n      <td>M4A</td>\n      <td>NaN</td>\n      <td>Victoria Village</td>\n    </tr>\n    <tr>\n      <th>2</th>\n      <td>M5A</td>\n      <td>NaN</td>\n      <td>Regent Park, Harbourfront</td>\n    </tr>\n    <tr>\n      <th>3</th>\n      <td>M6A</td>\n      <td>NaN</td>\n      <td>Lawrence Manor, Lawrence Heights</td>\n    </tr>\n    <tr>\n      <th>4</th>\n      <td>M7A</td>\n      <td>NaN</td>\n      <td>Queen's Park, Ontario Provincial Government</td>\n    </tr>\n  </tbody>\n</table>\n</div>",
                        "text/plain": "  Postalcode Borough                                 Neighborhood\n0        M3A     NaN                                    Parkwoods\n1        M4A     NaN                             Victoria Village\n2        M5A     NaN                    Regent Park, Harbourfront\n3        M6A     NaN             Lawrence Manor, Lawrence Heights\n4        M7A     NaN  Queen's Park, Ontario Provincial Government"
                    },
                    "execution_count": 67,
                    "metadata": {},
                    "output_type": "execute_result"
                }
            ],
            "source": "df_merge.head()"
        },
        {
            "cell_type": "code",
            "execution_count": 68,
            "metadata": {},
            "outputs": [
                {
                    "data": {
                        "text/plain": "(103, 3)"
                    },
                    "execution_count": 68,
                    "metadata": {},
                    "output_type": "execute_result"
                }
            ],
            "source": "df_merge.shape"
        },
        {
            "cell_type": "code",
            "execution_count": 69,
            "metadata": {},
            "outputs": [],
            "source": "def get_geocode(postal_code):\n    # initialize your variable to None\n    lat_lng_coords = None\n    while(lat_lng_coords is None):\n        g = geocoder.google('{}, Toronto, Ontario'.format(postal_code))\n        lat_lng_coords = g.latlng\n    latitude = lat_lng_coords[0]\n    longitude = lat_lng_coords[1]\n    return latitude,longitude"
        },
        {
            "cell_type": "code",
            "execution_count": 70,
            "metadata": {},
            "outputs": [],
            "source": "geo_df=pd.read_csv('http://cocl.us/Geospatial_data')"
        },
        {
            "cell_type": "code",
            "execution_count": 71,
            "metadata": {},
            "outputs": [
                {
                    "data": {
                        "text/html": "<div>\n<style scoped>\n    .dataframe tbody tr th:only-of-type {\n        vertical-align: middle;\n    }\n\n    .dataframe tbody tr th {\n        vertical-align: top;\n    }\n\n    .dataframe thead th {\n        text-align: right;\n    }\n</style>\n<table border=\"1\" class=\"dataframe\">\n  <thead>\n    <tr style=\"text-align: right;\">\n      <th></th>\n      <th>Postal Code</th>\n      <th>Latitude</th>\n      <th>Longitude</th>\n    </tr>\n  </thead>\n  <tbody>\n    <tr>\n      <th>0</th>\n      <td>M1B</td>\n      <td>43.806686</td>\n      <td>-79.194353</td>\n    </tr>\n    <tr>\n      <th>1</th>\n      <td>M1C</td>\n      <td>43.784535</td>\n      <td>-79.160497</td>\n    </tr>\n    <tr>\n      <th>2</th>\n      <td>M1E</td>\n      <td>43.763573</td>\n      <td>-79.188711</td>\n    </tr>\n    <tr>\n      <th>3</th>\n      <td>M1G</td>\n      <td>43.770992</td>\n      <td>-79.216917</td>\n    </tr>\n    <tr>\n      <th>4</th>\n      <td>M1H</td>\n      <td>43.773136</td>\n      <td>-79.239476</td>\n    </tr>\n  </tbody>\n</table>\n</div>",
                        "text/plain": "  Postal Code   Latitude  Longitude\n0         M1B  43.806686 -79.194353\n1         M1C  43.784535 -79.160497\n2         M1E  43.763573 -79.188711\n3         M1G  43.770992 -79.216917\n4         M1H  43.773136 -79.239476"
                    },
                    "execution_count": 71,
                    "metadata": {},
                    "output_type": "execute_result"
                }
            ],
            "source": "geo_df.head()"
        },
        {
            "cell_type": "code",
            "execution_count": 72,
            "metadata": {},
            "outputs": [],
            "source": "geo_df.rename(columns={'Postal Code':'Postalcode'},inplace=True)\ngeo_merged = pd.merge(geo_df, df_merge, on='Postalcode')"
        },
        {
            "cell_type": "code",
            "execution_count": 73,
            "metadata": {},
            "outputs": [
                {
                    "data": {
                        "text/html": "<div>\n<style scoped>\n    .dataframe tbody tr th:only-of-type {\n        vertical-align: middle;\n    }\n\n    .dataframe tbody tr th {\n        vertical-align: top;\n    }\n\n    .dataframe thead th {\n        text-align: right;\n    }\n</style>\n<table border=\"1\" class=\"dataframe\">\n  <thead>\n    <tr style=\"text-align: right;\">\n      <th></th>\n      <th>Postalcode</th>\n      <th>Latitude</th>\n      <th>Longitude</th>\n      <th>Borough</th>\n      <th>Neighborhood</th>\n    </tr>\n  </thead>\n  <tbody>\n    <tr>\n      <th>0</th>\n      <td>M1B</td>\n      <td>43.806686</td>\n      <td>-79.194353</td>\n      <td>NaN</td>\n      <td>Malvern, Rouge</td>\n    </tr>\n    <tr>\n      <th>1</th>\n      <td>M1C</td>\n      <td>43.784535</td>\n      <td>-79.160497</td>\n      <td>NaN</td>\n      <td>Rouge Hill, Port Union, Highland Creek</td>\n    </tr>\n    <tr>\n      <th>2</th>\n      <td>M1E</td>\n      <td>43.763573</td>\n      <td>-79.188711</td>\n      <td>NaN</td>\n      <td>Guildwood, Morningside, West Hill</td>\n    </tr>\n    <tr>\n      <th>3</th>\n      <td>M1G</td>\n      <td>43.770992</td>\n      <td>-79.216917</td>\n      <td>NaN</td>\n      <td>Woburn</td>\n    </tr>\n    <tr>\n      <th>4</th>\n      <td>M1H</td>\n      <td>43.773136</td>\n      <td>-79.239476</td>\n      <td>NaN</td>\n      <td>Cedarbrae</td>\n    </tr>\n  </tbody>\n</table>\n</div>",
                        "text/plain": "  Postalcode   Latitude  Longitude Borough  \\\n0        M1B  43.806686 -79.194353     NaN   \n1        M1C  43.784535 -79.160497     NaN   \n2        M1E  43.763573 -79.188711     NaN   \n3        M1G  43.770992 -79.216917     NaN   \n4        M1H  43.773136 -79.239476     NaN   \n\n                             Neighborhood  \n0                          Malvern, Rouge  \n1  Rouge Hill, Port Union, Highland Creek  \n2       Guildwood, Morningside, West Hill  \n3                                  Woburn  \n4                               Cedarbrae  "
                    },
                    "execution_count": 73,
                    "metadata": {},
                    "output_type": "execute_result"
                }
            ],
            "source": "geo_merged.head()"
        },
        {
            "cell_type": "code",
            "execution_count": 75,
            "metadata": {},
            "outputs": [
                {
                    "data": {
                        "text/html": "<div>\n<style scoped>\n    .dataframe tbody tr th:only-of-type {\n        vertical-align: middle;\n    }\n\n    .dataframe tbody tr th {\n        vertical-align: top;\n    }\n\n    .dataframe thead th {\n        text-align: right;\n    }\n</style>\n<table border=\"1\" class=\"dataframe\">\n  <thead>\n    <tr style=\"text-align: right;\">\n      <th></th>\n      <th>Postalcode</th>\n      <th>Borough</th>\n      <th>Neighborhood</th>\n      <th>Latitude</th>\n      <th>Longitude</th>\n    </tr>\n  </thead>\n  <tbody>\n    <tr>\n      <th>0</th>\n      <td>M1B</td>\n      <td>NaN</td>\n      <td>Malvern, Rouge</td>\n      <td>43.806686</td>\n      <td>-79.194353</td>\n    </tr>\n    <tr>\n      <th>1</th>\n      <td>M1C</td>\n      <td>NaN</td>\n      <td>Rouge Hill, Port Union, Highland Creek</td>\n      <td>43.784535</td>\n      <td>-79.160497</td>\n    </tr>\n    <tr>\n      <th>2</th>\n      <td>M1E</td>\n      <td>NaN</td>\n      <td>Guildwood, Morningside, West Hill</td>\n      <td>43.763573</td>\n      <td>-79.188711</td>\n    </tr>\n    <tr>\n      <th>3</th>\n      <td>M1G</td>\n      <td>NaN</td>\n      <td>Woburn</td>\n      <td>43.770992</td>\n      <td>-79.216917</td>\n    </tr>\n    <tr>\n      <th>4</th>\n      <td>M1H</td>\n      <td>NaN</td>\n      <td>Cedarbrae</td>\n      <td>43.773136</td>\n      <td>-79.239476</td>\n    </tr>\n  </tbody>\n</table>\n</div>",
                        "text/plain": "  Postalcode Borough                            Neighborhood   Latitude  \\\n0        M1B     NaN                          Malvern, Rouge  43.806686   \n1        M1C     NaN  Rouge Hill, Port Union, Highland Creek  43.784535   \n2        M1E     NaN       Guildwood, Morningside, West Hill  43.763573   \n3        M1G     NaN                                  Woburn  43.770992   \n4        M1H     NaN                               Cedarbrae  43.773136   \n\n   Longitude  \n0 -79.194353  \n1 -79.160497  \n2 -79.188711  \n3 -79.216917  \n4 -79.239476  "
                    },
                    "execution_count": 75,
                    "metadata": {},
                    "output_type": "execute_result"
                }
            ],
            "source": "geo_data=geo_merged[['Postalcode','Borough','Neighborhood','Latitude','Longitude']]\ngeo_data.head()"
        },
        {
            "cell_type": "code",
            "execution_count": 76,
            "metadata": {},
            "outputs": [
                {
                    "data": {
                        "text/html": "<div>\n<style scoped>\n    .dataframe tbody tr th:only-of-type {\n        vertical-align: middle;\n    }\n\n    .dataframe tbody tr th {\n        vertical-align: top;\n    }\n\n    .dataframe thead th {\n        text-align: right;\n    }\n</style>\n<table border=\"1\" class=\"dataframe\">\n  <thead>\n    <tr style=\"text-align: right;\">\n      <th></th>\n      <th>Postalcode</th>\n      <th>Borough</th>\n      <th>Neighborhood</th>\n      <th>Latitude</th>\n      <th>Longitude</th>\n    </tr>\n  </thead>\n  <tbody>\n    <tr>\n      <th>0</th>\n      <td>M1B</td>\n      <td>empty</td>\n      <td>Malvern, Rouge</td>\n      <td>43.806686</td>\n      <td>-79.194353</td>\n    </tr>\n    <tr>\n      <th>1</th>\n      <td>M1C</td>\n      <td>empty</td>\n      <td>Rouge Hill, Port Union, Highland Creek</td>\n      <td>43.784535</td>\n      <td>-79.160497</td>\n    </tr>\n    <tr>\n      <th>2</th>\n      <td>M1E</td>\n      <td>empty</td>\n      <td>Guildwood, Morningside, West Hill</td>\n      <td>43.763573</td>\n      <td>-79.188711</td>\n    </tr>\n    <tr>\n      <th>3</th>\n      <td>M1G</td>\n      <td>empty</td>\n      <td>Woburn</td>\n      <td>43.770992</td>\n      <td>-79.216917</td>\n    </tr>\n    <tr>\n      <th>4</th>\n      <td>M1H</td>\n      <td>empty</td>\n      <td>Cedarbrae</td>\n      <td>43.773136</td>\n      <td>-79.239476</td>\n    </tr>\n  </tbody>\n</table>\n</div>",
                        "text/plain": "  Postalcode Borough                            Neighborhood   Latitude  \\\n0        M1B   empty                          Malvern, Rouge  43.806686   \n1        M1C   empty  Rouge Hill, Port Union, Highland Creek  43.784535   \n2        M1E   empty       Guildwood, Morningside, West Hill  43.763573   \n3        M1G   empty                                  Woburn  43.770992   \n4        M1H   empty                               Cedarbrae  43.773136   \n\n   Longitude  \n0 -79.194353  \n1 -79.160497  \n2 -79.188711  \n3 -79.216917  \n4 -79.239476  "
                    },
                    "execution_count": 76,
                    "metadata": {},
                    "output_type": "execute_result"
                }
            ],
            "source": "geo_data[\"Borough\"].fillna('empty', inplace=True)\ngeo_data.head()"
        },
        {
            "cell_type": "code",
            "execution_count": 84,
            "metadata": {},
            "outputs": [
                {
                    "data": {
                        "text/html": "<div>\n<style scoped>\n    .dataframe tbody tr th:only-of-type {\n        vertical-align: middle;\n    }\n\n    .dataframe tbody tr th {\n        vertical-align: top;\n    }\n\n    .dataframe thead th {\n        text-align: right;\n    }\n</style>\n<table border=\"1\" class=\"dataframe\">\n  <thead>\n    <tr style=\"text-align: right;\">\n      <th></th>\n      <th>Postalcode</th>\n      <th>Borough</th>\n      <th>Neighborhood</th>\n      <th>Latitude</th>\n      <th>Longitude</th>\n    </tr>\n  </thead>\n  <tbody>\n    <tr>\n      <th>40</th>\n      <td>M4J</td>\n      <td>empty</td>\n      <td>East Toronto, Broadview North (Old East York)</td>\n      <td>43.685347</td>\n      <td>-79.338106</td>\n    </tr>\n    <tr>\n      <th>46</th>\n      <td>M4R</td>\n      <td>empty</td>\n      <td>North Toronto West,  Lawrence Park</td>\n      <td>43.715383</td>\n      <td>-79.405678</td>\n    </tr>\n    <tr>\n      <th>59</th>\n      <td>M5J</td>\n      <td>empty</td>\n      <td>Harbourfront East, Union Station, Toronto Islands</td>\n      <td>43.640816</td>\n      <td>-79.381752</td>\n    </tr>\n    <tr>\n      <th>60</th>\n      <td>M5K</td>\n      <td>empty</td>\n      <td>Toronto Dominion Centre, Design Exchange</td>\n      <td>43.647177</td>\n      <td>-79.381576</td>\n    </tr>\n    <tr>\n      <th>66</th>\n      <td>M5S</td>\n      <td>empty</td>\n      <td>University of Toronto, Harbord</td>\n      <td>43.662696</td>\n      <td>-79.400049</td>\n    </tr>\n  </tbody>\n</table>\n</div>",
                        "text/plain": "   Postalcode Borough                                       Neighborhood  \\\n40        M4J   empty      East Toronto, Broadview North (Old East York)   \n46        M4R   empty                 North Toronto West,  Lawrence Park   \n59        M5J   empty  Harbourfront East, Union Station, Toronto Islands   \n60        M5K   empty           Toronto Dominion Centre, Design Exchange   \n66        M5S   empty                     University of Toronto, Harbord   \n\n     Latitude  Longitude  \n40  43.685347 -79.338106  \n46  43.715383 -79.405678  \n59  43.640816 -79.381752  \n60  43.647177 -79.381576  \n66  43.662696 -79.400049  "
                    },
                    "execution_count": 84,
                    "metadata": {},
                    "output_type": "execute_result"
                }
            ],
            "source": "toronto_data=geo_data[geo_data['Neighborhood'].str.contains(\"Toronto\")]\ntoronto_data.head()"
        },
        {
            "cell_type": "code",
            "execution_count": 85,
            "metadata": {},
            "outputs": [],
            "source": "CLIENT_ID = 'QEF4SFROUUVOQKNPAFNNRDUW4ACAWSYYG312LM3BKEDDKPIZ' # your Foursquare ID\nCLIENT_SECRET = 'CCBFW1WDVTUYDLPFX3SR0QBB5R2UKRYOZ3F1JDJ3PLQMPDRM' # your Foursquare Secret\nVERSION = '20180604'"
        },
        {
            "cell_type": "code",
            "execution_count": 86,
            "metadata": {},
            "outputs": [],
            "source": "def getNearbyVenues(names, latitudes, longitudes):\n    radius=500\n    LIMIT=100\n    venues_list=[]\n    for name, lat, lng in zip(names, latitudes, longitudes):\n        print(name)\n            \n        # create the API request URL\n        url = 'https://api.foursquare.com/v2/venues/explore?&client_id={}&client_secret={}&v={}&ll={},{}&radius={}&limit={}'.format(\n            CLIENT_ID, \n            CLIENT_SECRET, \n            VERSION, \n            lat, \n            lng, \n            radius, \n            LIMIT)\n            \n        # make the GET request\n        results = requests.get(url).json()[\"response\"]['groups'][0]['items']\n        \n        # return only relevant information for each nearby venue\n        venues_list.append([(\n            name, \n            lat, \n            lng, \n            v['venue']['name'], \n            v['venue']['location']['lat'], \n            v['venue']['location']['lng'],  \n            v['venue']['categories'][0]['name']) for v in results])\n\n    nearby_venues = pd.DataFrame([item for venue_list in venues_list for item in venue_list])\n    nearby_venues.columns = ['Neighborhood', \n                  'Neighborhood Latitude', \n                  'Neighborhood Longitude', \n                  'Venue', \n                  'Venue Latitude', \n                  'Venue Longitude', \n                  'Venue Category']\n    \n    return(nearby_venues)"
        },
        {
            "cell_type": "code",
            "execution_count": 87,
            "metadata": {},
            "outputs": [
                {
                    "name": "stdout",
                    "output_type": "stream",
                    "text": "East Toronto, Broadview North (Old East York)\nNorth Toronto West,  Lawrence Park\nHarbourfront East, Union Station, Toronto Islands\nToronto Dominion Centre, Design Exchange\nUniversity of Toronto, Harbord\nBusiness reply mail Processing Centre, South Central Letter Processing Plant Toronto\nNew Toronto, Mimico South, Humber Bay Shores\n"
                }
            ],
            "source": "toronto_venues = getNearbyVenues(names=toronto_data['Neighborhood'],\n                                   latitudes=toronto_data['Latitude'],\n                                   longitudes=toronto_data['Longitude']\n                                  )"
        },
        {
            "cell_type": "code",
            "execution_count": 88,
            "metadata": {},
            "outputs": [
                {
                    "data": {
                        "text/html": "<div>\n<style scoped>\n    .dataframe tbody tr th:only-of-type {\n        vertical-align: middle;\n    }\n\n    .dataframe tbody tr th {\n        vertical-align: top;\n    }\n\n    .dataframe thead th {\n        text-align: right;\n    }\n</style>\n<table border=\"1\" class=\"dataframe\">\n  <thead>\n    <tr style=\"text-align: right;\">\n      <th></th>\n      <th>Neighborhood</th>\n      <th>Neighborhood Latitude</th>\n      <th>Neighborhood Longitude</th>\n      <th>Venue</th>\n      <th>Venue Latitude</th>\n      <th>Venue Longitude</th>\n      <th>Venue Category</th>\n    </tr>\n  </thead>\n  <tbody>\n    <tr>\n      <th>0</th>\n      <td>East Toronto, Broadview North (Old East York)</td>\n      <td>43.685347</td>\n      <td>-79.338106</td>\n      <td>The Path</td>\n      <td>43.683923</td>\n      <td>-79.335007</td>\n      <td>Park</td>\n    </tr>\n    <tr>\n      <th>1</th>\n      <td>East Toronto, Broadview North (Old East York)</td>\n      <td>43.685347</td>\n      <td>-79.338106</td>\n      <td>Sammon Convenience</td>\n      <td>43.686951</td>\n      <td>-79.335007</td>\n      <td>Convenience Store</td>\n    </tr>\n    <tr>\n      <th>2</th>\n      <td>East Toronto, Broadview North (Old East York)</td>\n      <td>43.685347</td>\n      <td>-79.338106</td>\n      <td>Donlands Subway Station</td>\n      <td>43.680960</td>\n      <td>-79.337759</td>\n      <td>Metro Station</td>\n    </tr>\n    <tr>\n      <th>3</th>\n      <td>North Toronto West,  Lawrence Park</td>\n      <td>43.715383</td>\n      <td>-79.405678</td>\n      <td>Barreworks</td>\n      <td>43.714070</td>\n      <td>-79.400109</td>\n      <td>Yoga Studio</td>\n    </tr>\n    <tr>\n      <th>4</th>\n      <td>North Toronto West,  Lawrence Park</td>\n      <td>43.715383</td>\n      <td>-79.405678</td>\n      <td>Starbucks</td>\n      <td>43.715590</td>\n      <td>-79.400450</td>\n      <td>Coffee Shop</td>\n    </tr>\n  </tbody>\n</table>\n</div>",
                        "text/plain": "                                    Neighborhood  Neighborhood Latitude  \\\n0  East Toronto, Broadview North (Old East York)              43.685347   \n1  East Toronto, Broadview North (Old East York)              43.685347   \n2  East Toronto, Broadview North (Old East York)              43.685347   \n3             North Toronto West,  Lawrence Park              43.715383   \n4             North Toronto West,  Lawrence Park              43.715383   \n\n   Neighborhood Longitude                    Venue  Venue Latitude  \\\n0              -79.338106                 The Path       43.683923   \n1              -79.338106       Sammon Convenience       43.686951   \n2              -79.338106  Donlands Subway Station       43.680960   \n3              -79.405678               Barreworks       43.714070   \n4              -79.405678                Starbucks       43.715590   \n\n   Venue Longitude     Venue Category  \n0       -79.335007               Park  \n1       -79.335007  Convenience Store  \n2       -79.337759      Metro Station  \n3       -79.400109        Yoga Studio  \n4       -79.400450        Coffee Shop  "
                    },
                    "execution_count": 88,
                    "metadata": {},
                    "output_type": "execute_result"
                }
            ],
            "source": "toronto_venues.head()"
        },
        {
            "cell_type": "code",
            "execution_count": 89,
            "metadata": {},
            "outputs": [
                {
                    "data": {
                        "text/html": "<div>\n<style scoped>\n    .dataframe tbody tr th:only-of-type {\n        vertical-align: middle;\n    }\n\n    .dataframe tbody tr th {\n        vertical-align: top;\n    }\n\n    .dataframe thead th {\n        text-align: right;\n    }\n</style>\n<table border=\"1\" class=\"dataframe\">\n  <thead>\n    <tr style=\"text-align: right;\">\n      <th></th>\n      <th>Neighborhood Latitude</th>\n      <th>Neighborhood Longitude</th>\n      <th>Venue</th>\n      <th>Venue Latitude</th>\n      <th>Venue Longitude</th>\n      <th>Venue Category</th>\n    </tr>\n    <tr>\n      <th>Neighborhood</th>\n      <th></th>\n      <th></th>\n      <th></th>\n      <th></th>\n      <th></th>\n      <th></th>\n    </tr>\n  </thead>\n  <tbody>\n    <tr>\n      <th>Business reply mail Processing Centre, South Central Letter Processing Plant Toronto</th>\n      <td>15</td>\n      <td>15</td>\n      <td>15</td>\n      <td>15</td>\n      <td>15</td>\n      <td>15</td>\n    </tr>\n    <tr>\n      <th>East Toronto, Broadview North (Old East York)</th>\n      <td>3</td>\n      <td>3</td>\n      <td>3</td>\n      <td>3</td>\n      <td>3</td>\n      <td>3</td>\n    </tr>\n    <tr>\n      <th>Harbourfront East, Union Station, Toronto Islands</th>\n      <td>100</td>\n      <td>100</td>\n      <td>100</td>\n      <td>100</td>\n      <td>100</td>\n      <td>100</td>\n    </tr>\n    <tr>\n      <th>New Toronto, Mimico South, Humber Bay Shores</th>\n      <td>13</td>\n      <td>13</td>\n      <td>13</td>\n      <td>13</td>\n      <td>13</td>\n      <td>13</td>\n    </tr>\n    <tr>\n      <th>North Toronto West,  Lawrence Park</th>\n      <td>18</td>\n      <td>18</td>\n      <td>18</td>\n      <td>18</td>\n      <td>18</td>\n      <td>18</td>\n    </tr>\n    <tr>\n      <th>Toronto Dominion Centre, Design Exchange</th>\n      <td>100</td>\n      <td>100</td>\n      <td>100</td>\n      <td>100</td>\n      <td>100</td>\n      <td>100</td>\n    </tr>\n    <tr>\n      <th>University of Toronto, Harbord</th>\n      <td>36</td>\n      <td>36</td>\n      <td>36</td>\n      <td>36</td>\n      <td>36</td>\n      <td>36</td>\n    </tr>\n  </tbody>\n</table>\n</div>",
                        "text/plain": "                                                    Neighborhood Latitude  \\\nNeighborhood                                                                \nBusiness reply mail Processing Centre, South Ce...                     15   \nEast Toronto, Broadview North (Old East York)                           3   \nHarbourfront East, Union Station, Toronto Islands                     100   \nNew Toronto, Mimico South, Humber Bay Shores                           13   \nNorth Toronto West,  Lawrence Park                                     18   \nToronto Dominion Centre, Design Exchange                              100   \nUniversity of Toronto, Harbord                                         36   \n\n                                                    Neighborhood Longitude  \\\nNeighborhood                                                                 \nBusiness reply mail Processing Centre, South Ce...                      15   \nEast Toronto, Broadview North (Old East York)                            3   \nHarbourfront East, Union Station, Toronto Islands                      100   \nNew Toronto, Mimico South, Humber Bay Shores                            13   \nNorth Toronto West,  Lawrence Park                                      18   \nToronto Dominion Centre, Design Exchange                               100   \nUniversity of Toronto, Harbord                                          36   \n\n                                                    Venue  Venue Latitude  \\\nNeighborhood                                                                \nBusiness reply mail Processing Centre, South Ce...     15              15   \nEast Toronto, Broadview North (Old East York)           3               3   \nHarbourfront East, Union Station, Toronto Islands     100             100   \nNew Toronto, Mimico South, Humber Bay Shores           13              13   \nNorth Toronto West,  Lawrence Park                     18              18   \nToronto Dominion Centre, Design Exchange              100             100   \nUniversity of Toronto, Harbord                         36              36   \n\n                                                    Venue Longitude  \\\nNeighborhood                                                          \nBusiness reply mail Processing Centre, South Ce...               15   \nEast Toronto, Broadview North (Old East York)                     3   \nHarbourfront East, Union Station, Toronto Islands               100   \nNew Toronto, Mimico South, Humber Bay Shores                     13   \nNorth Toronto West,  Lawrence Park                               18   \nToronto Dominion Centre, Design Exchange                        100   \nUniversity of Toronto, Harbord                                   36   \n\n                                                    Venue Category  \nNeighborhood                                                        \nBusiness reply mail Processing Centre, South Ce...              15  \nEast Toronto, Broadview North (Old East York)                    3  \nHarbourfront East, Union Station, Toronto Islands              100  \nNew Toronto, Mimico South, Humber Bay Shores                    13  \nNorth Toronto West,  Lawrence Park                              18  \nToronto Dominion Centre, Design Exchange                       100  \nUniversity of Toronto, Harbord                                  36  "
                    },
                    "execution_count": 89,
                    "metadata": {},
                    "output_type": "execute_result"
                }
            ],
            "source": "toronto_venues.groupby('Neighborhood').count()"
        },
        {
            "cell_type": "code",
            "execution_count": 90,
            "metadata": {},
            "outputs": [
                {
                    "data": {
                        "text/plain": "(285, 108)"
                    },
                    "execution_count": 90,
                    "metadata": {},
                    "output_type": "execute_result"
                }
            ],
            "source": "# one hot encoding\ntoronto_onehot = pd.get_dummies(toronto_venues[['Venue Category']], prefix=\"\", prefix_sep=\"\")\ntoronto_onehot.drop(['Neighborhood'],axis=1,inplace=True) \ntoronto_onehot.insert(loc=0, column='Neighborhood', value=toronto_venues['Neighborhood'] )\ntoronto_onehot.shape"
        },
        {
            "cell_type": "code",
            "execution_count": 91,
            "metadata": {},
            "outputs": [
                {
                    "data": {
                        "text/html": "<div>\n<style scoped>\n    .dataframe tbody tr th:only-of-type {\n        vertical-align: middle;\n    }\n\n    .dataframe tbody tr th {\n        vertical-align: top;\n    }\n\n    .dataframe thead th {\n        text-align: right;\n    }\n</style>\n<table border=\"1\" class=\"dataframe\">\n  <thead>\n    <tr style=\"text-align: right;\">\n      <th></th>\n      <th>Neighborhood</th>\n      <th>American Restaurant</th>\n      <th>Aquarium</th>\n      <th>Art Gallery</th>\n      <th>Asian Restaurant</th>\n      <th>Auto Workshop</th>\n      <th>Bakery</th>\n      <th>Bank</th>\n      <th>Bar</th>\n      <th>Baseball Stadium</th>\n      <th>...</th>\n      <th>Sushi Restaurant</th>\n      <th>Taco Place</th>\n      <th>Tailor Shop</th>\n      <th>Tea Room</th>\n      <th>Theater</th>\n      <th>Train Station</th>\n      <th>Vegetarian / Vegan Restaurant</th>\n      <th>Video Game Store</th>\n      <th>Wine Bar</th>\n      <th>Yoga Studio</th>\n    </tr>\n  </thead>\n  <tbody>\n    <tr>\n      <th>0</th>\n      <td>Business reply mail Processing Centre, South C...</td>\n      <td>0.000000</td>\n      <td>0.00</td>\n      <td>0.00</td>\n      <td>0.0</td>\n      <td>0.066667</td>\n      <td>0.000000</td>\n      <td>0.0</td>\n      <td>0.00</td>\n      <td>0.00</td>\n      <td>...</td>\n      <td>0.00</td>\n      <td>0.0</td>\n      <td>0.0</td>\n      <td>0.00</td>\n      <td>0.00</td>\n      <td>0.00</td>\n      <td>0.00</td>\n      <td>0.0</td>\n      <td>0.00</td>\n      <td>0.066667</td>\n    </tr>\n    <tr>\n      <th>1</th>\n      <td>East Toronto, Broadview North (Old East York)</td>\n      <td>0.000000</td>\n      <td>0.00</td>\n      <td>0.00</td>\n      <td>0.0</td>\n      <td>0.000000</td>\n      <td>0.000000</td>\n      <td>0.0</td>\n      <td>0.00</td>\n      <td>0.00</td>\n      <td>...</td>\n      <td>0.00</td>\n      <td>0.0</td>\n      <td>0.0</td>\n      <td>0.00</td>\n      <td>0.00</td>\n      <td>0.00</td>\n      <td>0.00</td>\n      <td>0.0</td>\n      <td>0.00</td>\n      <td>0.000000</td>\n    </tr>\n    <tr>\n      <th>2</th>\n      <td>Harbourfront East, Union Station, Toronto Islands</td>\n      <td>0.000000</td>\n      <td>0.05</td>\n      <td>0.01</td>\n      <td>0.0</td>\n      <td>0.000000</td>\n      <td>0.010000</td>\n      <td>0.0</td>\n      <td>0.02</td>\n      <td>0.02</td>\n      <td>...</td>\n      <td>0.01</td>\n      <td>0.0</td>\n      <td>0.0</td>\n      <td>0.01</td>\n      <td>0.01</td>\n      <td>0.01</td>\n      <td>0.01</td>\n      <td>0.0</td>\n      <td>0.01</td>\n      <td>0.000000</td>\n    </tr>\n    <tr>\n      <th>3</th>\n      <td>New Toronto, Mimico South, Humber Bay Shores</td>\n      <td>0.076923</td>\n      <td>0.00</td>\n      <td>0.00</td>\n      <td>0.0</td>\n      <td>0.000000</td>\n      <td>0.076923</td>\n      <td>0.0</td>\n      <td>0.00</td>\n      <td>0.00</td>\n      <td>...</td>\n      <td>0.00</td>\n      <td>0.0</td>\n      <td>0.0</td>\n      <td>0.00</td>\n      <td>0.00</td>\n      <td>0.00</td>\n      <td>0.00</td>\n      <td>0.0</td>\n      <td>0.00</td>\n      <td>0.000000</td>\n    </tr>\n    <tr>\n      <th>4</th>\n      <td>North Toronto West,  Lawrence Park</td>\n      <td>0.000000</td>\n      <td>0.00</td>\n      <td>0.00</td>\n      <td>0.0</td>\n      <td>0.000000</td>\n      <td>0.000000</td>\n      <td>0.0</td>\n      <td>0.00</td>\n      <td>0.00</td>\n      <td>...</td>\n      <td>0.00</td>\n      <td>0.0</td>\n      <td>0.0</td>\n      <td>0.00</td>\n      <td>0.00</td>\n      <td>0.00</td>\n      <td>0.00</td>\n      <td>0.0</td>\n      <td>0.00</td>\n      <td>0.055556</td>\n    </tr>\n  </tbody>\n</table>\n<p>5 rows \u00d7 108 columns</p>\n</div>",
                        "text/plain": "                                        Neighborhood  American Restaurant  \\\n0  Business reply mail Processing Centre, South C...             0.000000   \n1      East Toronto, Broadview North (Old East York)             0.000000   \n2  Harbourfront East, Union Station, Toronto Islands             0.000000   \n3       New Toronto, Mimico South, Humber Bay Shores             0.076923   \n4                 North Toronto West,  Lawrence Park             0.000000   \n\n   Aquarium  Art Gallery  Asian Restaurant  Auto Workshop    Bakery  Bank  \\\n0      0.00         0.00               0.0       0.066667  0.000000   0.0   \n1      0.00         0.00               0.0       0.000000  0.000000   0.0   \n2      0.05         0.01               0.0       0.000000  0.010000   0.0   \n3      0.00         0.00               0.0       0.000000  0.076923   0.0   \n4      0.00         0.00               0.0       0.000000  0.000000   0.0   \n\n    Bar  Baseball Stadium  ...  Sushi Restaurant  Taco Place  Tailor Shop  \\\n0  0.00              0.00  ...              0.00         0.0          0.0   \n1  0.00              0.00  ...              0.00         0.0          0.0   \n2  0.02              0.02  ...              0.01         0.0          0.0   \n3  0.00              0.00  ...              0.00         0.0          0.0   \n4  0.00              0.00  ...              0.00         0.0          0.0   \n\n   Tea Room  Theater  Train Station  Vegetarian / Vegan Restaurant  \\\n0      0.00     0.00           0.00                           0.00   \n1      0.00     0.00           0.00                           0.00   \n2      0.01     0.01           0.01                           0.01   \n3      0.00     0.00           0.00                           0.00   \n4      0.00     0.00           0.00                           0.00   \n\n   Video Game Store  Wine Bar  Yoga Studio  \n0               0.0      0.00     0.066667  \n1               0.0      0.00     0.000000  \n2               0.0      0.01     0.000000  \n3               0.0      0.00     0.000000  \n4               0.0      0.00     0.055556  \n\n[5 rows x 108 columns]"
                    },
                    "execution_count": 91,
                    "metadata": {},
                    "output_type": "execute_result"
                }
            ],
            "source": "toronto_grouped = toronto_onehot.groupby('Neighborhood').mean().reset_index()\ntoronto_grouped.head()"
        },
        {
            "cell_type": "code",
            "execution_count": 92,
            "metadata": {},
            "outputs": [],
            "source": "def return_most_common_venues(row, num_top_venues):\n    row_categories = row.iloc[1:]\n    row_categories_sorted = row_categories.sort_values(ascending=False)\n    \n    return row_categories_sorted.index.values[0:num_top_venues]"
        },
        {
            "cell_type": "code",
            "execution_count": 93,
            "metadata": {},
            "outputs": [
                {
                    "data": {
                        "text/html": "<div>\n<style scoped>\n    .dataframe tbody tr th:only-of-type {\n        vertical-align: middle;\n    }\n\n    .dataframe tbody tr th {\n        vertical-align: top;\n    }\n\n    .dataframe thead th {\n        text-align: right;\n    }\n</style>\n<table border=\"1\" class=\"dataframe\">\n  <thead>\n    <tr style=\"text-align: right;\">\n      <th></th>\n      <th>Neighborhood</th>\n      <th>1st Most Common Venue</th>\n      <th>2nd Most Common Venue</th>\n      <th>3rd Most Common Venue</th>\n      <th>4th Most Common Venue</th>\n      <th>5th Most Common Venue</th>\n      <th>6th Most Common Venue</th>\n      <th>7th Most Common Venue</th>\n      <th>8th Most Common Venue</th>\n      <th>9th Most Common Venue</th>\n      <th>10th Most Common Venue</th>\n    </tr>\n  </thead>\n  <tbody>\n    <tr>\n      <th>0</th>\n      <td>Business reply mail Processing Centre, South C...</td>\n      <td>Yoga Studio</td>\n      <td>Brewery</td>\n      <td>Garden Center</td>\n      <td>Garden</td>\n      <td>Light Rail Station</td>\n      <td>Fast Food Restaurant</td>\n      <td>Farmers Market</td>\n      <td>Park</td>\n      <td>Pizza Place</td>\n      <td>Restaurant</td>\n    </tr>\n    <tr>\n      <th>1</th>\n      <td>East Toronto, Broadview North (Old East York)</td>\n      <td>Convenience Store</td>\n      <td>Park</td>\n      <td>Metro Station</td>\n      <td>Food Court</td>\n      <td>Convention Center</td>\n      <td>Dance Studio</td>\n      <td>Deli / Bodega</td>\n      <td>Department Store</td>\n      <td>Dessert Shop</td>\n      <td>Diner</td>\n    </tr>\n    <tr>\n      <th>2</th>\n      <td>Harbourfront East, Union Station, Toronto Islands</td>\n      <td>Coffee Shop</td>\n      <td>Aquarium</td>\n      <td>Caf\u00e9</td>\n      <td>Hotel</td>\n      <td>Brewery</td>\n      <td>Fried Chicken Joint</td>\n      <td>Restaurant</td>\n      <td>Italian Restaurant</td>\n      <td>Sporting Goods Shop</td>\n      <td>Scenic Lookout</td>\n    </tr>\n    <tr>\n      <th>3</th>\n      <td>New Toronto, Mimico South, Humber Bay Shores</td>\n      <td>American Restaurant</td>\n      <td>Caf\u00e9</td>\n      <td>Fried Chicken Joint</td>\n      <td>Liquor Store</td>\n      <td>Fast Food Restaurant</td>\n      <td>Mexican Restaurant</td>\n      <td>Pharmacy</td>\n      <td>Pizza Place</td>\n      <td>Restaurant</td>\n      <td>Coffee Shop</td>\n    </tr>\n    <tr>\n      <th>4</th>\n      <td>North Toronto West,  Lawrence Park</td>\n      <td>Coffee Shop</td>\n      <td>Clothing Store</td>\n      <td>Spa</td>\n      <td>Fast Food Restaurant</td>\n      <td>Diner</td>\n      <td>Mexican Restaurant</td>\n      <td>Park</td>\n      <td>Rental Car Location</td>\n      <td>Restaurant</td>\n      <td>Chinese Restaurant</td>\n    </tr>\n  </tbody>\n</table>\n</div>",
                        "text/plain": "                                        Neighborhood 1st Most Common Venue  \\\n0  Business reply mail Processing Centre, South C...           Yoga Studio   \n1      East Toronto, Broadview North (Old East York)     Convenience Store   \n2  Harbourfront East, Union Station, Toronto Islands           Coffee Shop   \n3       New Toronto, Mimico South, Humber Bay Shores   American Restaurant   \n4                 North Toronto West,  Lawrence Park           Coffee Shop   \n\n  2nd Most Common Venue 3rd Most Common Venue 4th Most Common Venue  \\\n0               Brewery         Garden Center                Garden   \n1                  Park         Metro Station            Food Court   \n2              Aquarium                  Caf\u00e9                 Hotel   \n3                  Caf\u00e9   Fried Chicken Joint          Liquor Store   \n4        Clothing Store                   Spa  Fast Food Restaurant   \n\n  5th Most Common Venue 6th Most Common Venue 7th Most Common Venue  \\\n0    Light Rail Station  Fast Food Restaurant        Farmers Market   \n1     Convention Center          Dance Studio         Deli / Bodega   \n2               Brewery   Fried Chicken Joint            Restaurant   \n3  Fast Food Restaurant    Mexican Restaurant              Pharmacy   \n4                 Diner    Mexican Restaurant                  Park   \n\n  8th Most Common Venue 9th Most Common Venue 10th Most Common Venue  \n0                  Park           Pizza Place             Restaurant  \n1      Department Store          Dessert Shop                  Diner  \n2    Italian Restaurant   Sporting Goods Shop         Scenic Lookout  \n3           Pizza Place            Restaurant            Coffee Shop  \n4   Rental Car Location            Restaurant     Chinese Restaurant  "
                    },
                    "execution_count": 93,
                    "metadata": {},
                    "output_type": "execute_result"
                }
            ],
            "source": "num_top_venues = 10\n\nindicators = ['st', 'nd', 'rd']\n\n# create columns according to number of top venues\ncolumns = ['Neighborhood']\nfor ind in np.arange(num_top_venues):\n    try:\n        columns.append('{}{} Most Common Venue'.format(ind+1, indicators[ind]))\n    except:\n        columns.append('{}th Most Common Venue'.format(ind+1))\n\n# create a new dataframe\nneighborhoods_venues_sorted = pd.DataFrame(columns=columns)\nneighborhoods_venues_sorted['Neighborhood'] = toronto_grouped['Neighborhood']\n\nfor ind in np.arange(toronto_grouped.shape[0]):\n    neighborhoods_venues_sorted.iloc[ind, 1:] = return_most_common_venues(toronto_grouped.iloc[ind, :], num_top_venues)\n\nneighborhoods_venues_sorted.head()"
        },
        {
            "cell_type": "markdown",
            "metadata": {},
            "source": "###### Making Clusters for Neighborhood"
        },
        {
            "cell_type": "code",
            "execution_count": 94,
            "metadata": {},
            "outputs": [
                {
                    "data": {
                        "text/plain": "array([3, 1, 2, 4, 0, 2, 2], dtype=int32)"
                    },
                    "execution_count": 94,
                    "metadata": {},
                    "output_type": "execute_result"
                }
            ],
            "source": "# set number of clusters\nkclusters = 5\n\ntoronto_grouped_clustering = toronto_grouped.drop('Neighborhood', 1)\n\n# run k-means clustering\nkmeans = KMeans(n_clusters=kclusters, random_state=0).fit(toronto_grouped_clustering)\n\n# check cluster labels generated for each row in the dataframe\nkmeans.labels_[0:10]"
        },
        {
            "cell_type": "code",
            "execution_count": 95,
            "metadata": {},
            "outputs": [
                {
                    "data": {
                        "text/html": "<div>\n<style scoped>\n    .dataframe tbody tr th:only-of-type {\n        vertical-align: middle;\n    }\n\n    .dataframe tbody tr th {\n        vertical-align: top;\n    }\n\n    .dataframe thead th {\n        text-align: right;\n    }\n</style>\n<table border=\"1\" class=\"dataframe\">\n  <thead>\n    <tr style=\"text-align: right;\">\n      <th></th>\n      <th>Postalcode</th>\n      <th>Borough</th>\n      <th>Neighborhood</th>\n      <th>Latitude</th>\n      <th>Longitude</th>\n      <th>Cluster Labels</th>\n      <th>1st Most Common Venue</th>\n      <th>2nd Most Common Venue</th>\n      <th>3rd Most Common Venue</th>\n      <th>4th Most Common Venue</th>\n      <th>5th Most Common Venue</th>\n      <th>6th Most Common Venue</th>\n      <th>7th Most Common Venue</th>\n      <th>8th Most Common Venue</th>\n      <th>9th Most Common Venue</th>\n      <th>10th Most Common Venue</th>\n    </tr>\n  </thead>\n  <tbody>\n    <tr>\n      <th>40</th>\n      <td>M4J</td>\n      <td>empty</td>\n      <td>East Toronto, Broadview North (Old East York)</td>\n      <td>43.685347</td>\n      <td>-79.338106</td>\n      <td>1</td>\n      <td>Convenience Store</td>\n      <td>Park</td>\n      <td>Metro Station</td>\n      <td>Food Court</td>\n      <td>Convention Center</td>\n      <td>Dance Studio</td>\n      <td>Deli / Bodega</td>\n      <td>Department Store</td>\n      <td>Dessert Shop</td>\n      <td>Diner</td>\n    </tr>\n    <tr>\n      <th>46</th>\n      <td>M4R</td>\n      <td>empty</td>\n      <td>North Toronto West,  Lawrence Park</td>\n      <td>43.715383</td>\n      <td>-79.405678</td>\n      <td>0</td>\n      <td>Coffee Shop</td>\n      <td>Clothing Store</td>\n      <td>Spa</td>\n      <td>Fast Food Restaurant</td>\n      <td>Diner</td>\n      <td>Mexican Restaurant</td>\n      <td>Park</td>\n      <td>Rental Car Location</td>\n      <td>Restaurant</td>\n      <td>Chinese Restaurant</td>\n    </tr>\n    <tr>\n      <th>59</th>\n      <td>M5J</td>\n      <td>empty</td>\n      <td>Harbourfront East, Union Station, Toronto Islands</td>\n      <td>43.640816</td>\n      <td>-79.381752</td>\n      <td>2</td>\n      <td>Coffee Shop</td>\n      <td>Aquarium</td>\n      <td>Caf\u00e9</td>\n      <td>Hotel</td>\n      <td>Brewery</td>\n      <td>Fried Chicken Joint</td>\n      <td>Restaurant</td>\n      <td>Italian Restaurant</td>\n      <td>Sporting Goods Shop</td>\n      <td>Scenic Lookout</td>\n    </tr>\n    <tr>\n      <th>60</th>\n      <td>M5K</td>\n      <td>empty</td>\n      <td>Toronto Dominion Centre, Design Exchange</td>\n      <td>43.647177</td>\n      <td>-79.381576</td>\n      <td>2</td>\n      <td>Coffee Shop</td>\n      <td>Hotel</td>\n      <td>Caf\u00e9</td>\n      <td>Restaurant</td>\n      <td>American Restaurant</td>\n      <td>Italian Restaurant</td>\n      <td>Salad Place</td>\n      <td>Seafood Restaurant</td>\n      <td>Japanese Restaurant</td>\n      <td>Tea Room</td>\n    </tr>\n    <tr>\n      <th>66</th>\n      <td>M5S</td>\n      <td>empty</td>\n      <td>University of Toronto, Harbord</td>\n      <td>43.662696</td>\n      <td>-79.400049</td>\n      <td>2</td>\n      <td>Caf\u00e9</td>\n      <td>Bookstore</td>\n      <td>Italian Restaurant</td>\n      <td>Japanese Restaurant</td>\n      <td>Theater</td>\n      <td>Restaurant</td>\n      <td>Bakery</td>\n      <td>Bar</td>\n      <td>College Gym</td>\n      <td>Chinese Restaurant</td>\n    </tr>\n  </tbody>\n</table>\n</div>",
                        "text/plain": "   Postalcode Borough                                       Neighborhood  \\\n40        M4J   empty      East Toronto, Broadview North (Old East York)   \n46        M4R   empty                 North Toronto West,  Lawrence Park   \n59        M5J   empty  Harbourfront East, Union Station, Toronto Islands   \n60        M5K   empty           Toronto Dominion Centre, Design Exchange   \n66        M5S   empty                     University of Toronto, Harbord   \n\n     Latitude  Longitude  Cluster Labels 1st Most Common Venue  \\\n40  43.685347 -79.338106               1     Convenience Store   \n46  43.715383 -79.405678               0           Coffee Shop   \n59  43.640816 -79.381752               2           Coffee Shop   \n60  43.647177 -79.381576               2           Coffee Shop   \n66  43.662696 -79.400049               2                  Caf\u00e9   \n\n   2nd Most Common Venue 3rd Most Common Venue 4th Most Common Venue  \\\n40                  Park         Metro Station            Food Court   \n46        Clothing Store                   Spa  Fast Food Restaurant   \n59              Aquarium                  Caf\u00e9                 Hotel   \n60                 Hotel                  Caf\u00e9            Restaurant   \n66             Bookstore    Italian Restaurant   Japanese Restaurant   \n\n   5th Most Common Venue 6th Most Common Venue 7th Most Common Venue  \\\n40     Convention Center          Dance Studio         Deli / Bodega   \n46                 Diner    Mexican Restaurant                  Park   \n59               Brewery   Fried Chicken Joint            Restaurant   \n60   American Restaurant    Italian Restaurant           Salad Place   \n66               Theater            Restaurant                Bakery   \n\n   8th Most Common Venue 9th Most Common Venue 10th Most Common Venue  \n40      Department Store          Dessert Shop                  Diner  \n46   Rental Car Location            Restaurant     Chinese Restaurant  \n59    Italian Restaurant   Sporting Goods Shop         Scenic Lookout  \n60    Seafood Restaurant   Japanese Restaurant               Tea Room  \n66                   Bar           College Gym     Chinese Restaurant  "
                    },
                    "execution_count": 95,
                    "metadata": {},
                    "output_type": "execute_result"
                }
            ],
            "source": "# add clustering labels\nneighborhoods_venues_sorted.insert(0, 'Cluster Labels', kmeans.labels_)\n\ntoronto_merged = toronto_data\n\n# merge toronto_grouped with toronto_data to add latitude/longitude for each neighborhood\ntoronto_merged = toronto_merged.join(neighborhoods_venues_sorted.set_index('Neighborhood'), on='Neighborhood')\n\ntoronto_merged.head() "
        },
        {
            "cell_type": "code",
            "execution_count": 96,
            "metadata": {},
            "outputs": [
                {
                    "data": {
                        "text/html": "<div>\n<style scoped>\n    .dataframe tbody tr th:only-of-type {\n        vertical-align: middle;\n    }\n\n    .dataframe tbody tr th {\n        vertical-align: top;\n    }\n\n    .dataframe thead th {\n        text-align: right;\n    }\n</style>\n<table border=\"1\" class=\"dataframe\">\n  <thead>\n    <tr style=\"text-align: right;\">\n      <th></th>\n      <th>Cluster Labels</th>\n      <th>Neighborhood</th>\n      <th>1st Most Common Venue</th>\n      <th>2nd Most Common Venue</th>\n      <th>3rd Most Common Venue</th>\n      <th>4th Most Common Venue</th>\n      <th>5th Most Common Venue</th>\n      <th>6th Most Common Venue</th>\n      <th>7th Most Common Venue</th>\n      <th>8th Most Common Venue</th>\n      <th>9th Most Common Venue</th>\n      <th>10th Most Common Venue</th>\n    </tr>\n  </thead>\n  <tbody>\n    <tr>\n      <th>0</th>\n      <td>3</td>\n      <td>Business reply mail Processing Centre, South C...</td>\n      <td>Yoga Studio</td>\n      <td>Brewery</td>\n      <td>Garden Center</td>\n      <td>Garden</td>\n      <td>Light Rail Station</td>\n      <td>Fast Food Restaurant</td>\n      <td>Farmers Market</td>\n      <td>Park</td>\n      <td>Pizza Place</td>\n      <td>Restaurant</td>\n    </tr>\n    <tr>\n      <th>1</th>\n      <td>1</td>\n      <td>East Toronto, Broadview North (Old East York)</td>\n      <td>Convenience Store</td>\n      <td>Park</td>\n      <td>Metro Station</td>\n      <td>Food Court</td>\n      <td>Convention Center</td>\n      <td>Dance Studio</td>\n      <td>Deli / Bodega</td>\n      <td>Department Store</td>\n      <td>Dessert Shop</td>\n      <td>Diner</td>\n    </tr>\n    <tr>\n      <th>2</th>\n      <td>2</td>\n      <td>Harbourfront East, Union Station, Toronto Islands</td>\n      <td>Coffee Shop</td>\n      <td>Aquarium</td>\n      <td>Caf\u00e9</td>\n      <td>Hotel</td>\n      <td>Brewery</td>\n      <td>Fried Chicken Joint</td>\n      <td>Restaurant</td>\n      <td>Italian Restaurant</td>\n      <td>Sporting Goods Shop</td>\n      <td>Scenic Lookout</td>\n    </tr>\n    <tr>\n      <th>3</th>\n      <td>4</td>\n      <td>New Toronto, Mimico South, Humber Bay Shores</td>\n      <td>American Restaurant</td>\n      <td>Caf\u00e9</td>\n      <td>Fried Chicken Joint</td>\n      <td>Liquor Store</td>\n      <td>Fast Food Restaurant</td>\n      <td>Mexican Restaurant</td>\n      <td>Pharmacy</td>\n      <td>Pizza Place</td>\n      <td>Restaurant</td>\n      <td>Coffee Shop</td>\n    </tr>\n    <tr>\n      <th>4</th>\n      <td>0</td>\n      <td>North Toronto West,  Lawrence Park</td>\n      <td>Coffee Shop</td>\n      <td>Clothing Store</td>\n      <td>Spa</td>\n      <td>Fast Food Restaurant</td>\n      <td>Diner</td>\n      <td>Mexican Restaurant</td>\n      <td>Park</td>\n      <td>Rental Car Location</td>\n      <td>Restaurant</td>\n      <td>Chinese Restaurant</td>\n    </tr>\n  </tbody>\n</table>\n</div>",
                        "text/plain": "   Cluster Labels                                       Neighborhood  \\\n0               3  Business reply mail Processing Centre, South C...   \n1               1      East Toronto, Broadview North (Old East York)   \n2               2  Harbourfront East, Union Station, Toronto Islands   \n3               4       New Toronto, Mimico South, Humber Bay Shores   \n4               0                 North Toronto West,  Lawrence Park   \n\n  1st Most Common Venue 2nd Most Common Venue 3rd Most Common Venue  \\\n0           Yoga Studio               Brewery         Garden Center   \n1     Convenience Store                  Park         Metro Station   \n2           Coffee Shop              Aquarium                  Caf\u00e9   \n3   American Restaurant                  Caf\u00e9   Fried Chicken Joint   \n4           Coffee Shop        Clothing Store                   Spa   \n\n  4th Most Common Venue 5th Most Common Venue 6th Most Common Venue  \\\n0                Garden    Light Rail Station  Fast Food Restaurant   \n1            Food Court     Convention Center          Dance Studio   \n2                 Hotel               Brewery   Fried Chicken Joint   \n3          Liquor Store  Fast Food Restaurant    Mexican Restaurant   \n4  Fast Food Restaurant                 Diner    Mexican Restaurant   \n\n  7th Most Common Venue 8th Most Common Venue 9th Most Common Venue  \\\n0        Farmers Market                  Park           Pizza Place   \n1         Deli / Bodega      Department Store          Dessert Shop   \n2            Restaurant    Italian Restaurant   Sporting Goods Shop   \n3              Pharmacy           Pizza Place            Restaurant   \n4                  Park   Rental Car Location            Restaurant   \n\n  10th Most Common Venue  \n0             Restaurant  \n1                  Diner  \n2         Scenic Lookout  \n3            Coffee Shop  \n4     Chinese Restaurant  "
                    },
                    "execution_count": 96,
                    "metadata": {},
                    "output_type": "execute_result"
                }
            ],
            "source": "neighborhoods_venues_sorted.head()"
        },
        {
            "cell_type": "code",
            "execution_count": 97,
            "metadata": {},
            "outputs": [
                {
                    "name": "stdout",
                    "output_type": "stream",
                    "text": "The geograpical coordinate of Manhattan are 43.6534817, -79.3839347.\n"
                }
            ],
            "source": "address = 'Toronto, CA'\n\ngeolocator = Nominatim(user_agent=\"ny_explorer\")\nlocation = geolocator.geocode(address)\nlatitude = location.latitude\nlongitude = location.longitude\nprint('The geograpical coordinate of Manhattan are {}, {}.'.format(latitude, longitude))"
        },
        {
            "cell_type": "markdown",
            "metadata": {},
            "source": "###### Creating Map"
        },
        {
            "cell_type": "code",
            "execution_count": 98,
            "metadata": {},
            "outputs": [
                {
                    "data": {
                        "text/html": "<div style=\"width:100%;\"><div style=\"position:relative;width:100%;height:0;padding-bottom:60%;\"><span style=\"color:#565656\">Make this Notebook Trusted to load map: File -> Trust Notebook</span><iframe src=\"about:blank\" style=\"position:absolute;width:100%;height:100%;left:0;top:0;border:none !important;\" data-html=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 onload=\"this.contentDocument.open();this.contentDocument.write(atob(this.getAttribute('data-html')));this.contentDocument.close();\" allowfullscreen webkitallowfullscreen mozallowfullscreen></iframe></div></div>",
                        "text/plain": "<folium.folium.Map at 0x7f5f8af86860>"
                    },
                    "execution_count": 98,
                    "metadata": {},
                    "output_type": "execute_result"
                }
            ],
            "source": "map_clusters = folium.Map(location=[latitude, longitude], zoom_start=11)\n\n# set color scheme for the clusters\nx = np.arange(kclusters)\nys = [i + x + (i*x)**2 for i in range(kclusters)]\ncolors_array = cm.rainbow(np.linspace(0, 1, len(ys)))\nrainbow = [colors.rgb2hex(i) for i in colors_array]\n\n# add markers to the map\nmarkers_colors = []\nfor lat, lon, poi, cluster in zip(toronto_merged['Latitude'], toronto_merged['Longitude'], toronto_merged['Neighborhood'], toronto_merged['Cluster Labels']):\n    label = folium.Popup(str(poi) + ' Cluster ' + str(cluster), parse_html=True)\n    folium.CircleMarker(\n        [lat, lon],\n        radius=5,\n        popup=label,\n        color=rainbow[cluster-1],\n        fill=True,\n        fill_color=rainbow[cluster-1],\n        fill_opacity=0.7).add_to(map_clusters)\n       \nmap_clusters"
        }
    ],
    "metadata": {
        "kernelspec": {
            "display_name": "Python 3.6",
            "language": "python",
            "name": "python3"
        },
        "language_info": {
            "codemirror_mode": {
                "name": "ipython",
                "version": 3
            },
            "file_extension": ".py",
            "mimetype": "text/x-python",
            "name": "python",
            "nbconvert_exporter": "python",
            "pygments_lexer": "ipython3",
            "version": "3.6.9"
        }
    },
    "nbformat": 4,
    "nbformat_minor": 1
}